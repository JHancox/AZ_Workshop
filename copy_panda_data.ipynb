{
 "cells": [
  {
   "cell_type": "code",
   "execution_count": 4,
   "id": "03dc9d2c-5b8d-4ca4-8f0a-9efc5cc88709",
   "metadata": {},
   "outputs": [
    {
     "name": "stdout",
     "output_type": "stream",
     "text": [
      "Copy complete\n"
     ]
    }
   ],
   "source": [
    "import shutil\n",
    "import os\n",
    "import json\n",
    "\n",
    "with open(\"/datasets/AZ_Workshop/datalist_panda_0.json\", \"r\") as f:\n",
    "    data = json.load(f)\n",
    "\n",
    "if not os.path.exists(\"/datasets/AZ_Workshop/data/panda/training\"):\n",
    "    os.makedirs(\"/datasets/AZ_Workshop/data/panda/training\")\n",
    "\n",
    "# Process training data\n",
    "for item in data.get(\"training\", []):\n",
    "\n",
    "    source_path = os.path.join(\"/datasets/mil_pathology/p_data/train_images\",item[\"image\"])\n",
    "    destination_path = os.path.join(\"/datasets/AZ_Workshop/data/panda/training\",item[\"image\"])\n",
    "\n",
    "    # Copy the file\n",
    "    shutil.copy(source_path, destination_path)\n",
    "\n",
    "if not os.path.exists(\"/datasets/AZ_Workshop/data/panda/validation\"):\n",
    "    os.makedirs(\"/datasets/AZ_Workshop/data/panda/validation\")\n",
    "\n",
    "# Process testing data\n",
    "for item in data.get(\"validation\", []):\n",
    "    source_path = os.path.join(\"/datasets/mil_pathology/p_data/train_images\",item[\"image\"])\n",
    "    destination_path = os.path.join(\"/datasets/AZ_Workshop/data/panda/validation\",item[\"image\"])\n",
    "\n",
    "    # Copy the file\n",
    "    shutil.copy(source_path, destination_path)\n",
    "\n",
    "print(\"Copy complete\")  "
   ]
  },
  {
   "cell_type": "code",
   "execution_count": null,
   "id": "20443d50-f343-4a32-b163-243e78d5bb50",
   "metadata": {},
   "outputs": [],
   "source": []
  }
 ],
 "metadata": {
  "kernelspec": {
   "display_name": "Python 3 (ipykernel)",
   "language": "python",
   "name": "python3"
  },
  "language_info": {
   "codemirror_mode": {
    "name": "ipython",
    "version": 3
   },
   "file_extension": ".py",
   "mimetype": "text/x-python",
   "name": "python",
   "nbconvert_exporter": "python",
   "pygments_lexer": "ipython3",
   "version": "3.10.12"
  }
 },
 "nbformat": 4,
 "nbformat_minor": 5
}
